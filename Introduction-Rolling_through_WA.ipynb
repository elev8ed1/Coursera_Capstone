{
    "cells": [
        {
            "cell_type": "markdown",
            "metadata": {
                "collapsed": true
            },
            "source": "<h1 align=\"center\">\"Rolling\" Through Washington State</h1>\n\nBy Dru Norman"
        },
        {
            "attachments": {},
            "cell_type": "markdown",
            "metadata": {},
            "source": ""
        },
        {
            "cell_type": "markdown",
            "metadata": {},
            "source": "<h1>1. Introduction</h1>"
        },
        {
            "cell_type": "markdown",
            "metadata": {},
            "source": "***\u201cRolling,\u201d as we call it, is a form of \u201csparring\u201d and is a way for students to test their skills and abilities against their teammates. Like sparring in other martial arts, rolling helps identify opportunities for improvement, work on strengths and advantages, and continually practice and improve the techniques that require attention.-from website: https://evolve-mma.com/blog/the-ultimate-guide-to-rolling-in-bjj/***"
        },
        {
            "cell_type": "markdown",
            "metadata": {},
            "source": "<h2>Description & Discussion of the background</h2>"
        },
        {
            "cell_type": "markdown",
            "metadata": {},
            "source": "&emsp;&emsp;As a martial arts practitioner and overall fan of combat sports (primarily: Brazilian Jiujitsu, Muay Thai, and Mixed Martial Arts) like many others, I enjoy training. In developing my own set of skills, acquiring new skills, and testing myself through competition or training with new people, it is often very challenging to find the right places to train. There are dozens of different styles of martial arts and a plethora of different places to chose from."
        },
        {
            "cell_type": "markdown",
            "metadata": {},
            "source": "<h3>Target Audience:</h3>"
        },
        {
            "cell_type": "markdown",
            "metadata": {},
            "source": "&emsp;&emsp;This project is intended to help serve as a guide to those interested in navigating their way through a sea of martial arts gyms, academies, and dojos across the beautiful state of Washington. It will primarily focus on helping those interested in finding academies that specifically relate to the martial arts style of Brazilian Jiu-jitsu (BJJ), and Mixed Martial Arts (MMA)."
        },
        {
            "cell_type": "markdown",
            "metadata": {},
            "source": "&emsp;&emsp;For those unfamiliar with Brazilian Jiu-jitsu (BJJ), it is a combat sport and self defense system that primarily focuses on grappling and ground fighting where the application of leverage, pressure, and strategy help one to complete different techniques to force an opponent to submit by joint lock or choke. This is only a brief definition which does not do it any justice. Please check out this link https://www.renzogracieportland.com/brazilian-jiu-jitsu/ to get a much better understating of BJJ. I am in no way affiliated with this gym or team, but found the explanation by John Danaher the best and most complete representation for those unfamiliar."
        },
        {
            "cell_type": "code",
            "execution_count": null,
            "metadata": {},
            "outputs": [],
            "source": ""
        }
    ],
    "metadata": {
        "kernelspec": {
            "display_name": "Python 3.6",
            "language": "python",
            "name": "python3"
        },
        "language_info": {
            "codemirror_mode": {
                "name": "ipython",
                "version": 3
            },
            "file_extension": ".py",
            "mimetype": "text/x-python",
            "name": "python",
            "nbconvert_exporter": "python",
            "pygments_lexer": "ipython3",
            "version": "3.6.9"
        }
    },
    "nbformat": 4,
    "nbformat_minor": 1
}